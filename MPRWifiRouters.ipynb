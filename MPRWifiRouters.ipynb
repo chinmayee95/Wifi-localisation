{
  "nbformat": 4,
  "nbformat_minor": 0,
  "metadata": {
    "colab": {
      "name": "MPRWifiRouters.ipynb",
      "provenance": [],
      "authorship_tag": "ABX9TyPLH1NvVKMWCaCjFgoFtLBV",
      "include_colab_link": true
    },
    "kernelspec": {
      "name": "python3",
      "display_name": "Python 3"
    }
  },
  "cells": [
    {
      "cell_type": "markdown",
      "metadata": {
        "id": "view-in-github",
        "colab_type": "text"
      },
      "source": [
        "<a href=\"https://colab.research.google.com/github/chinmayee95/Wifi-localisation/blob/master/MPRWifiRouters.ipynb\" target=\"_parent\"><img src=\"https://colab.research.google.com/assets/colab-badge.svg\" alt=\"Open In Colab\"/></a>"
      ]
    },
    {
      "cell_type": "code",
      "metadata": {
        "id": "-6AohuWEd2mX",
        "colab_type": "code",
        "colab": {
          "base_uri": "https://localhost:8080/",
          "height": 71
        },
        "outputId": "324a45a1-d875-4e24-d3fb-fbcb10d62e86"
      },
      "source": [
        "import pandas as pd\n",
        "import numpy as np\n",
        "\n",
        "#Common Model Algorithms\n",
        "from sklearn import svm, tree, linear_model, neighbors, naive_bayes, ensemble, discriminant_analysis, gaussian_process\n",
        "from sklearn.ensemble import RandomForestClassifier\n",
        "from xgboost import XGBClassifier\n",
        "\n",
        "#Common Model Helpers\n",
        "from sklearn.preprocessing import OneHotEncoder, LabelEncoder\n",
        "from sklearn import feature_selection\n",
        "from sklearn import model_selection\n",
        "from sklearn import metrics\n",
        "from sklearn.model_selection import train_test_split\n",
        "#Visualization\n",
        "import matplotlib as mpl\n",
        "import matplotlib.pyplot as plt\n",
        "import matplotlib.pylab as pylab\n",
        "import seaborn as sns\n",
        "from pandas.plotting import scatter_matrix\n",
        "\n",
        "#Configure Visualization Defaults\n",
        "#%matplotlib inline = show plots in Jupyter Notebook browser\n",
        "%matplotlib inline\n",
        "mpl.style.use('ggplot')\n",
        "sns.set_style('white')\n",
        "pylab.rcParams['figure.figsize'] = 12,8"
      ],
      "execution_count": 2,
      "outputs": [
        {
          "output_type": "stream",
          "text": [
            "/usr/local/lib/python3.6/dist-packages/statsmodels/tools/_testing.py:19: FutureWarning: pandas.util.testing is deprecated. Use the functions in the public API at pandas.testing instead.\n",
            "  import pandas.util.testing as tm\n"
          ],
          "name": "stderr"
        }
      ]
    },
    {
      "cell_type": "code",
      "metadata": {
        "id": "WE4jYTs7sfvE",
        "colab_type": "code",
        "outputId": "79da071d-edb5-49cf-beec-0681e9fe55fa",
        "colab": {
          "base_uri": "https://localhost:8080/",
          "height": 34
        }
      },
      "source": [
        "%cd"
      ],
      "execution_count": 0,
      "outputs": [
        {
          "output_type": "stream",
          "text": [
            "/root\n"
          ],
          "name": "stdout"
        }
      ]
    },
    {
      "cell_type": "code",
      "metadata": {
        "id": "x0YiKEVesmoK",
        "colab_type": "code",
        "outputId": "855edd20-217b-4b53-b541-47f5c62cada0",
        "colab": {
          "base_uri": "https://localhost:8080/",
          "height": 51
        }
      },
      "source": [
        "%cd /content/\n",
        "%ls"
      ],
      "execution_count": 0,
      "outputs": [
        {
          "output_type": "stream",
          "text": [
            "/content\n",
            "D_Test1.csv  D_Train1.csv  \u001b[0m\u001b[01;34msample_data\u001b[0m/  wifi_localization.txt\n"
          ],
          "name": "stdout"
        }
      ]
    },
    {
      "cell_type": "code",
      "metadata": {
        "id": "SVqogWldsJpC",
        "colab_type": "code",
        "colab": {}
      },
      "source": [
        "data = pd.read_csv(\"./wifi_localization.txt\", names=[\"wifi_signal_1\",\"wifi_signal_2\",\"wifi_signal_3\",\"wifi_signal_4\",\"wifi_signal_5\",\"wifi_signal_6\",\"wifi_signal_7\",\"room_number\"], sep='\\t')"
      ],
      "execution_count": 0,
      "outputs": []
    },
    {
      "cell_type": "code",
      "metadata": {
        "id": "Q-zQfbH7sdNi",
        "colab_type": "code",
        "outputId": "70673c6e-f4ea-46fb-bc31-b2756c36de74",
        "colab": {
          "base_uri": "https://localhost:8080/",
          "height": 204
        }
      },
      "source": [
        "data.head()"
      ],
      "execution_count": 0,
      "outputs": [
        {
          "output_type": "execute_result",
          "data": {
            "text/html": [
              "<div>\n",
              "<style scoped>\n",
              "    .dataframe tbody tr th:only-of-type {\n",
              "        vertical-align: middle;\n",
              "    }\n",
              "\n",
              "    .dataframe tbody tr th {\n",
              "        vertical-align: top;\n",
              "    }\n",
              "\n",
              "    .dataframe thead th {\n",
              "        text-align: right;\n",
              "    }\n",
              "</style>\n",
              "<table border=\"1\" class=\"dataframe\">\n",
              "  <thead>\n",
              "    <tr style=\"text-align: right;\">\n",
              "      <th></th>\n",
              "      <th>wifi_signal_1</th>\n",
              "      <th>wifi_signal_2</th>\n",
              "      <th>wifi_signal_3</th>\n",
              "      <th>wifi_signal_4</th>\n",
              "      <th>wifi_signal_5</th>\n",
              "      <th>wifi_signal_6</th>\n",
              "      <th>wifi_signal_7</th>\n",
              "      <th>room_number</th>\n",
              "    </tr>\n",
              "  </thead>\n",
              "  <tbody>\n",
              "    <tr>\n",
              "      <th>0</th>\n",
              "      <td>-64</td>\n",
              "      <td>-56</td>\n",
              "      <td>-61</td>\n",
              "      <td>-66</td>\n",
              "      <td>-71</td>\n",
              "      <td>-82</td>\n",
              "      <td>-81</td>\n",
              "      <td>1</td>\n",
              "    </tr>\n",
              "    <tr>\n",
              "      <th>1</th>\n",
              "      <td>-68</td>\n",
              "      <td>-57</td>\n",
              "      <td>-61</td>\n",
              "      <td>-65</td>\n",
              "      <td>-71</td>\n",
              "      <td>-85</td>\n",
              "      <td>-85</td>\n",
              "      <td>1</td>\n",
              "    </tr>\n",
              "    <tr>\n",
              "      <th>2</th>\n",
              "      <td>-63</td>\n",
              "      <td>-60</td>\n",
              "      <td>-60</td>\n",
              "      <td>-67</td>\n",
              "      <td>-76</td>\n",
              "      <td>-85</td>\n",
              "      <td>-84</td>\n",
              "      <td>1</td>\n",
              "    </tr>\n",
              "    <tr>\n",
              "      <th>3</th>\n",
              "      <td>-61</td>\n",
              "      <td>-60</td>\n",
              "      <td>-68</td>\n",
              "      <td>-62</td>\n",
              "      <td>-77</td>\n",
              "      <td>-90</td>\n",
              "      <td>-80</td>\n",
              "      <td>1</td>\n",
              "    </tr>\n",
              "    <tr>\n",
              "      <th>4</th>\n",
              "      <td>-63</td>\n",
              "      <td>-65</td>\n",
              "      <td>-60</td>\n",
              "      <td>-63</td>\n",
              "      <td>-77</td>\n",
              "      <td>-81</td>\n",
              "      <td>-87</td>\n",
              "      <td>1</td>\n",
              "    </tr>\n",
              "  </tbody>\n",
              "</table>\n",
              "</div>"
            ],
            "text/plain": [
              "   wifi_signal_1  wifi_signal_2  ...  wifi_signal_7  room_number\n",
              "0            -64            -56  ...            -81            1\n",
              "1            -68            -57  ...            -85            1\n",
              "2            -63            -60  ...            -84            1\n",
              "3            -61            -60  ...            -80            1\n",
              "4            -63            -65  ...            -87            1\n",
              "\n",
              "[5 rows x 8 columns]"
            ]
          },
          "metadata": {
            "tags": []
          },
          "execution_count": 6
        }
      ]
    },
    {
      "cell_type": "code",
      "metadata": {
        "id": "EXLvWfMbs4sQ",
        "colab_type": "code",
        "outputId": "b36abf10-6d25-4d19-ddef-c75fc01b808d",
        "colab": {
          "base_uri": "https://localhost:8080/",
          "height": 272
        }
      },
      "source": [
        "data.info()"
      ],
      "execution_count": 0,
      "outputs": [
        {
          "output_type": "stream",
          "text": [
            "<class 'pandas.core.frame.DataFrame'>\n",
            "RangeIndex: 2000 entries, 0 to 1999\n",
            "Data columns (total 8 columns):\n",
            " #   Column         Non-Null Count  Dtype\n",
            "---  ------         --------------  -----\n",
            " 0   wifi_signal_1  2000 non-null   int64\n",
            " 1   wifi_signal_2  2000 non-null   int64\n",
            " 2   wifi_signal_3  2000 non-null   int64\n",
            " 3   wifi_signal_4  2000 non-null   int64\n",
            " 4   wifi_signal_5  2000 non-null   int64\n",
            " 5   wifi_signal_6  2000 non-null   int64\n",
            " 6   wifi_signal_7  2000 non-null   int64\n",
            " 7   room_number    2000 non-null   int64\n",
            "dtypes: int64(8)\n",
            "memory usage: 125.1 KB\n"
          ],
          "name": "stdout"
        }
      ]
    },
    {
      "cell_type": "code",
      "metadata": {
        "id": "kxzmMozDt8sS",
        "colab_type": "code",
        "outputId": "0e2aa204-374d-4705-b275-192c6f748a8a",
        "colab": {
          "base_uri": "https://localhost:8080/",
          "height": 187
        }
      },
      "source": [
        "print('Data/Features with null values:\\n', data.isnull().sum())"
      ],
      "execution_count": 0,
      "outputs": [
        {
          "output_type": "stream",
          "text": [
            "Data/Features with null values:\n",
            " wifi_signal_1    0\n",
            "wifi_signal_2    0\n",
            "wifi_signal_3    0\n",
            "wifi_signal_4    0\n",
            "wifi_signal_5    0\n",
            "wifi_signal_6    0\n",
            "wifi_signal_7    0\n",
            "room_number      0\n",
            "dtype: int64\n"
          ],
          "name": "stdout"
        }
      ]
    },
    {
      "cell_type": "code",
      "metadata": {
        "id": "Q3i55z5Dw_R7",
        "colab_type": "code",
        "outputId": "e645ff1d-2fb8-4cde-856e-2a6f7e947cac",
        "colab": {
          "base_uri": "https://localhost:8080/",
          "height": 297
        }
      },
      "source": [
        "data.describe(include = 'all')"
      ],
      "execution_count": 0,
      "outputs": [
        {
          "output_type": "execute_result",
          "data": {
            "text/html": [
              "<div>\n",
              "<style scoped>\n",
              "    .dataframe tbody tr th:only-of-type {\n",
              "        vertical-align: middle;\n",
              "    }\n",
              "\n",
              "    .dataframe tbody tr th {\n",
              "        vertical-align: top;\n",
              "    }\n",
              "\n",
              "    .dataframe thead th {\n",
              "        text-align: right;\n",
              "    }\n",
              "</style>\n",
              "<table border=\"1\" class=\"dataframe\">\n",
              "  <thead>\n",
              "    <tr style=\"text-align: right;\">\n",
              "      <th></th>\n",
              "      <th>wifi_signal_1</th>\n",
              "      <th>wifi_signal_2</th>\n",
              "      <th>wifi_signal_3</th>\n",
              "      <th>wifi_signal_4</th>\n",
              "      <th>wifi_signal_5</th>\n",
              "      <th>wifi_signal_6</th>\n",
              "      <th>wifi_signal_7</th>\n",
              "      <th>room_number</th>\n",
              "    </tr>\n",
              "  </thead>\n",
              "  <tbody>\n",
              "    <tr>\n",
              "      <th>count</th>\n",
              "      <td>2000.000000</td>\n",
              "      <td>2000.000000</td>\n",
              "      <td>2000.000000</td>\n",
              "      <td>2000.000000</td>\n",
              "      <td>2000.000000</td>\n",
              "      <td>2000.000000</td>\n",
              "      <td>2000.000000</td>\n",
              "      <td>2000.000000</td>\n",
              "    </tr>\n",
              "    <tr>\n",
              "      <th>mean</th>\n",
              "      <td>-52.330500</td>\n",
              "      <td>-55.623500</td>\n",
              "      <td>-54.964000</td>\n",
              "      <td>-53.566500</td>\n",
              "      <td>-62.640500</td>\n",
              "      <td>-80.985000</td>\n",
              "      <td>-81.726500</td>\n",
              "      <td>2.500000</td>\n",
              "    </tr>\n",
              "    <tr>\n",
              "      <th>std</th>\n",
              "      <td>11.321677</td>\n",
              "      <td>3.417688</td>\n",
              "      <td>5.316186</td>\n",
              "      <td>11.471982</td>\n",
              "      <td>9.105093</td>\n",
              "      <td>6.516672</td>\n",
              "      <td>6.519812</td>\n",
              "      <td>1.118314</td>\n",
              "    </tr>\n",
              "    <tr>\n",
              "      <th>min</th>\n",
              "      <td>-74.000000</td>\n",
              "      <td>-74.000000</td>\n",
              "      <td>-73.000000</td>\n",
              "      <td>-77.000000</td>\n",
              "      <td>-89.000000</td>\n",
              "      <td>-97.000000</td>\n",
              "      <td>-98.000000</td>\n",
              "      <td>1.000000</td>\n",
              "    </tr>\n",
              "    <tr>\n",
              "      <th>25%</th>\n",
              "      <td>-61.000000</td>\n",
              "      <td>-58.000000</td>\n",
              "      <td>-58.000000</td>\n",
              "      <td>-63.000000</td>\n",
              "      <td>-69.000000</td>\n",
              "      <td>-86.000000</td>\n",
              "      <td>-87.000000</td>\n",
              "      <td>1.750000</td>\n",
              "    </tr>\n",
              "    <tr>\n",
              "      <th>50%</th>\n",
              "      <td>-55.000000</td>\n",
              "      <td>-56.000000</td>\n",
              "      <td>-55.000000</td>\n",
              "      <td>-56.000000</td>\n",
              "      <td>-64.000000</td>\n",
              "      <td>-82.000000</td>\n",
              "      <td>-83.000000</td>\n",
              "      <td>2.500000</td>\n",
              "    </tr>\n",
              "    <tr>\n",
              "      <th>75%</th>\n",
              "      <td>-46.000000</td>\n",
              "      <td>-53.000000</td>\n",
              "      <td>-51.000000</td>\n",
              "      <td>-46.000000</td>\n",
              "      <td>-56.000000</td>\n",
              "      <td>-77.000000</td>\n",
              "      <td>-78.000000</td>\n",
              "      <td>3.250000</td>\n",
              "    </tr>\n",
              "    <tr>\n",
              "      <th>max</th>\n",
              "      <td>-10.000000</td>\n",
              "      <td>-45.000000</td>\n",
              "      <td>-40.000000</td>\n",
              "      <td>-11.000000</td>\n",
              "      <td>-36.000000</td>\n",
              "      <td>-61.000000</td>\n",
              "      <td>-63.000000</td>\n",
              "      <td>4.000000</td>\n",
              "    </tr>\n",
              "  </tbody>\n",
              "</table>\n",
              "</div>"
            ],
            "text/plain": [
              "       wifi_signal_1  wifi_signal_2  ...  wifi_signal_7  room_number\n",
              "count    2000.000000    2000.000000  ...    2000.000000  2000.000000\n",
              "mean      -52.330500     -55.623500  ...     -81.726500     2.500000\n",
              "std        11.321677       3.417688  ...       6.519812     1.118314\n",
              "min       -74.000000     -74.000000  ...     -98.000000     1.000000\n",
              "25%       -61.000000     -58.000000  ...     -87.000000     1.750000\n",
              "50%       -55.000000     -56.000000  ...     -83.000000     2.500000\n",
              "75%       -46.000000     -53.000000  ...     -78.000000     3.250000\n",
              "max       -10.000000     -45.000000  ...     -63.000000     4.000000\n",
              "\n",
              "[8 rows x 8 columns]"
            ]
          },
          "metadata": {
            "tags": []
          },
          "execution_count": 9
        }
      ]
    },
    {
      "cell_type": "markdown",
      "metadata": {
        "id": "OyEDvSXq5rkv",
        "colab_type": "text"
      },
      "source": [
        "Splitting the data into : Train, Validation and Test"
      ]
    },
    {
      "cell_type": "code",
      "metadata": {
        "id": "xdU9XDXbyD2l",
        "colab_type": "code",
        "outputId": "44432f11-c4f4-4fb1-b076-2dea3a18af18",
        "colab": {
          "base_uri": "https://localhost:8080/",
          "height": 459
        }
      },
      "source": [
        "x_data = data[[\"wifi_signal_1\",\"wifi_signal_2\",\"wifi_signal_3\",\"wifi_signal_4\",\"wifi_signal_5\",\"wifi_signal_6\",\"wifi_signal_7\"]]\n",
        "print(x_data)\n",
        "x_label = data[\"room_number\"]\n",
        "print(x_label)\n",
        "#20% of the total data\n",
        "X_train, X_test, y_train, y_test = train_test_split(x_data, x_label, test_size=0.2, random_state=1)\n",
        "#train data = 60% Validation set = 20%\n",
        "X_train, X_val, y_train, y_val = train_test_split(X_train, y_train, test_size=0.25, random_state=1)"
      ],
      "execution_count": 0,
      "outputs": [
        {
          "output_type": "stream",
          "text": [
            "      wifi_signal_1  wifi_signal_2  ...  wifi_signal_6  wifi_signal_7\n",
            "0               -64            -56  ...            -82            -81\n",
            "1               -68            -57  ...            -85            -85\n",
            "2               -63            -60  ...            -85            -84\n",
            "3               -61            -60  ...            -90            -80\n",
            "4               -63            -65  ...            -81            -87\n",
            "...             ...            ...  ...            ...            ...\n",
            "1995            -59            -59  ...            -86            -94\n",
            "1996            -59            -56  ...            -87            -90\n",
            "1997            -62            -59  ...            -87            -88\n",
            "1998            -62            -58  ...            -90            -85\n",
            "1999            -59            -50  ...            -88            -87\n",
            "\n",
            "[2000 rows x 7 columns]\n",
            "0       1\n",
            "1       1\n",
            "2       1\n",
            "3       1\n",
            "4       1\n",
            "       ..\n",
            "1995    4\n",
            "1996    4\n",
            "1997    4\n",
            "1998    4\n",
            "1999    4\n",
            "Name: room_number, Length: 2000, dtype: int64\n"
          ],
          "name": "stdout"
        }
      ]
    },
    {
      "cell_type": "code",
      "metadata": {
        "id": "MA4ZK7_n6Ty2",
        "colab_type": "code",
        "outputId": "552958b4-0e89-4a3a-c260-a4051a93f085",
        "colab": {
          "base_uri": "https://localhost:8080/",
          "height": 68
        }
      },
      "source": [
        "print(X_train.shape)\n",
        "print(X_val.shape)\n",
        "print(X_test.shape)"
      ],
      "execution_count": 0,
      "outputs": [
        {
          "output_type": "stream",
          "text": [
            "(1200, 7)\n",
            "(400, 7)\n",
            "(400, 7)\n"
          ],
          "name": "stdout"
        }
      ]
    },
    {
      "cell_type": "markdown",
      "metadata": {
        "id": "MuCXm2RxVHu5",
        "colab_type": "text"
      },
      "source": [
        "Correaltion plot"
      ]
    },
    {
      "cell_type": "code",
      "metadata": {
        "id": "aNtWgFjSDgyv",
        "colab_type": "code",
        "outputId": "9141751f-09dc-4fef-e836-9dbb6ecd8471",
        "colab": {
          "base_uri": "https://localhost:8080/",
          "height": 340
        }
      },
      "source": [
        "import numpy as np \n",
        "from pandas import DataFrame\n",
        "import seaborn as sns\n",
        "%matplotlib inline\n",
        "Index= [\"wifi_signal_1\",\"wifi_signal_2\",\"wifi_signal_3\",\"wifi_signal_4\",\"wifi_signal_5\",\"wifi_signal_6\",\"wifi_signal_7\"]\n",
        "Cols = [\"wifi_signal_1\",\"wifi_signal_2\",\"wifi_signal_3\",\"wifi_signal_4\",\"wifi_signal_5\",\"wifi_signal_6\",\"wifi_signal_7\"]\n",
        "df = DataFrame(abs(np.random.randn(7,7)), index=Index, columns=Cols)\n",
        "corr = x_data.corr()\n",
        "sns.heatmap(corr , annot=True)"
      ],
      "execution_count": 0,
      "outputs": [
        {
          "output_type": "execute_result",
          "data": {
            "text/plain": [
              "<matplotlib.axes._subplots.AxesSubplot at 0x7faae13ff8d0>"
            ]
          },
          "metadata": {
            "tags": []
          },
          "execution_count": 12
        },
        {
          "output_type": "display_data",
          "data": {
            "image/png": "[encoded data removed]",
            "text/plain": [
              "<Figure size 432x288 with 2 Axes>"
            ]
          },
          "metadata": {
            "tags": [],
            "needs_background": "light"
          }
        }
      ]
    },
    {
      "cell_type": "code",
      "metadata": {
        "id": "AiPEeKnfZxsS",
        "colab_type": "code",
        "outputId": "2e71a452-a693-4bf3-b250-67491dc0f399",
        "colab": {
          "base_uri": "https://localhost:8080/",
          "height": 452
        }
      },
      "source": [
        "data.hist()"
      ],
      "execution_count": 0,
      "outputs": [
        {
          "output_type": "execute_result",
          "data": {
            "text/plain": [
              "array([[<matplotlib.axes._subplots.AxesSubplot object at 0x7faadd324748>,\n",
              "        <matplotlib.axes._subplots.AxesSubplot object at 0x7faadd20c390>,\n",
              "        <matplotlib.axes._subplots.AxesSubplot object at 0x7faadd2399e8>],\n",
              "       [<matplotlib.axes._subplots.AxesSubplot object at 0x7faadd1f5048>,\n",
              "        <matplotlib.axes._subplots.AxesSubplot object at 0x7faadd196fd0>,\n",
              "        <matplotlib.axes._subplots.AxesSubplot object at 0x7faadd1526a0>],\n",
              "       [<matplotlib.axes._subplots.AxesSubplot object at 0x7faadd17dcf8>,\n",
              "        <matplotlib.axes._subplots.AxesSubplot object at 0x7faadd137358>,\n",
              "        <matplotlib.axes._subplots.AxesSubplot object at 0x7faadd1373c8>]],\n",
              "      dtype=object)"
            ]
          },
          "metadata": {
            "tags": []
          },
          "execution_count": 17
        },
        {
          "output_type": "display_data",
          "data": {
            "image/png": "[encoded data removed]",
            "text/plain": [
              "<Figure size 432x288 with 9 Axes>"
            ]
          },
          "metadata": {
            "tags": [],
            "needs_background": "light"
          }
        }
      ]
    },
    {
      "cell_type": "code",
      "metadata": {
        "id": "pase-9A22OXs",
        "colab_type": "code",
        "outputId": "4203995e-6fdb-487e-dd3a-a297017841dd",
        "colab": {
          "base_uri": "https://localhost:8080/",
          "height": 51
        }
      },
      "source": [
        "%cd \"/content/\"\n",
        "!git clone https://github.com/chinmayee95/Wifi-localisation"
      ],
      "execution_count": 51,
      "outputs": [
        {
          "output_type": "stream",
          "text": [
            "/content\n",
            "fatal: destination path 'Wifi-localisation' already exists and is not an empty directory.\n"
          ],
          "name": "stdout"
        }
      ]
    },
    {
      "cell_type": "code",
      "metadata": {
        "id": "Cl7DaPyv2ljJ",
        "colab_type": "code",
        "outputId": "c331f94b-2ec9-4d68-c1f9-a6418ab1a4f9",
        "colab": {
          "base_uri": "https://localhost:8080/",
          "height": 68
        }
      },
      "source": [
        "!pwd\n",
        "!ls Wifi-localisation/\n",
        "%cd /content/Wifi-localisation/"
      ],
      "execution_count": 52,
      "outputs": [
        {
          "output_type": "stream",
          "text": [
            "/content\n",
            "D_Test1.csv  D_Train1.csv  __pycache__\twifi_localization.txt\n",
            "/content/Wifi-localisation\n"
          ],
          "name": "stdout"
        }
      ]
    },
    {
      "cell_type": "code",
      "metadata": {
        "id": "OpP63n__hG2J",
        "colab_type": "code",
        "colab": {}
      },
      "source": [
        "data = pd.read_csv(\"./D_Train1.csv\", sep=',')"
      ],
      "execution_count": 0,
      "outputs": []
    },
    {
      "cell_type": "code",
      "metadata": {
        "id": "SV63rDA56atn",
        "colab_type": "code",
        "colab": {}
      },
      "source": [
        "traindata = data[['WS1','WS2','WS3','WS4','WS5','WS6','WS7']]\n",
        "trainlabel = data['Location']"
      ],
      "execution_count": 0,
      "outputs": []
    },
    {
      "cell_type": "code",
      "metadata": {
        "id": "ksfjhs4K2U0E",
        "colab_type": "code",
        "outputId": "5b27be7d-be65-4fc1-9cc0-659772f1cfda",
        "colab": {
          "base_uri": "https://localhost:8080/",
          "height": 204
        }
      },
      "source": [
        "data.shape\n",
        "data.head()"
      ],
      "execution_count": 55,
      "outputs": [
        {
          "output_type": "execute_result",
          "data": {
            "text/html": [
              "<div>\n",
              "<style scoped>\n",
              "    .dataframe tbody tr th:only-of-type {\n",
              "        vertical-align: middle;\n",
              "    }\n",
              "\n",
              "    .dataframe tbody tr th {\n",
              "        vertical-align: top;\n",
              "    }\n",
              "\n",
              "    .dataframe thead th {\n",
              "        text-align: right;\n",
              "    }\n",
              "</style>\n",
              "<table border=\"1\" class=\"dataframe\">\n",
              "  <thead>\n",
              "    <tr style=\"text-align: right;\">\n",
              "      <th></th>\n",
              "      <th>Location</th>\n",
              "      <th>WS1</th>\n",
              "      <th>WS2</th>\n",
              "      <th>WS3</th>\n",
              "      <th>WS4</th>\n",
              "      <th>WS5</th>\n",
              "      <th>WS6</th>\n",
              "      <th>WS7</th>\n",
              "    </tr>\n",
              "  </thead>\n",
              "  <tbody>\n",
              "    <tr>\n",
              "      <th>0</th>\n",
              "      <td>1</td>\n",
              "      <td>-62</td>\n",
              "      <td>-55</td>\n",
              "      <td>-65</td>\n",
              "      <td>-59</td>\n",
              "      <td>-69</td>\n",
              "      <td>-86</td>\n",
              "      <td>-87</td>\n",
              "    </tr>\n",
              "    <tr>\n",
              "      <th>1</th>\n",
              "      <td>1</td>\n",
              "      <td>-61</td>\n",
              "      <td>-56</td>\n",
              "      <td>-65</td>\n",
              "      <td>-65</td>\n",
              "      <td>-66</td>\n",
              "      <td>-77</td>\n",
              "      <td>-81</td>\n",
              "    </tr>\n",
              "    <tr>\n",
              "      <th>2</th>\n",
              "      <td>1</td>\n",
              "      <td>-62</td>\n",
              "      <td>-58</td>\n",
              "      <td>-57</td>\n",
              "      <td>-65</td>\n",
              "      <td>-70</td>\n",
              "      <td>-82</td>\n",
              "      <td>-91</td>\n",
              "    </tr>\n",
              "    <tr>\n",
              "      <th>3</th>\n",
              "      <td>1</td>\n",
              "      <td>-59</td>\n",
              "      <td>-57</td>\n",
              "      <td>-60</td>\n",
              "      <td>-60</td>\n",
              "      <td>-63</td>\n",
              "      <td>-81</td>\n",
              "      <td>-77</td>\n",
              "    </tr>\n",
              "    <tr>\n",
              "      <th>4</th>\n",
              "      <td>1</td>\n",
              "      <td>-69</td>\n",
              "      <td>-58</td>\n",
              "      <td>-56</td>\n",
              "      <td>-61</td>\n",
              "      <td>-73</td>\n",
              "      <td>-81</td>\n",
              "      <td>-93</td>\n",
              "    </tr>\n",
              "  </tbody>\n",
              "</table>\n",
              "</div>"
            ],
            "text/plain": [
              "   Location  WS1  WS2  WS3  WS4  WS5  WS6  WS7\n",
              "0         1  -62  -55  -65  -59  -69  -86  -87\n",
              "1         1  -61  -56  -65  -65  -66  -77  -81\n",
              "2         1  -62  -58  -57  -65  -70  -82  -91\n",
              "3         1  -59  -57  -60  -60  -63  -81  -77\n",
              "4         1  -69  -58  -56  -61  -73  -81  -93"
            ]
          },
          "metadata": {
            "tags": []
          },
          "execution_count": 55
        }
      ]
    },
    {
      "cell_type": "code",
      "metadata": {
        "id": "RPNtuZ0k3zov",
        "colab_type": "code",
        "outputId": "746d8002-1fc4-4842-bf16-e9503ee69716",
        "colab": {
          "base_uri": "https://localhost:8080/",
          "height": 297
        }
      },
      "source": [
        "data.describe()"
      ],
      "execution_count": 56,
      "outputs": [
        {
          "output_type": "execute_result",
          "data": {
            "text/html": [
              "<div>\n",
              "<style scoped>\n",
              "    .dataframe tbody tr th:only-of-type {\n",
              "        vertical-align: middle;\n",
              "    }\n",
              "\n",
              "    .dataframe tbody tr th {\n",
              "        vertical-align: top;\n",
              "    }\n",
              "\n",
              "    .dataframe thead th {\n",
              "        text-align: right;\n",
              "    }\n",
              "</style>\n",
              "<table border=\"1\" class=\"dataframe\">\n",
              "  <thead>\n",
              "    <tr style=\"text-align: right;\">\n",
              "      <th></th>\n",
              "      <th>Location</th>\n",
              "      <th>WS1</th>\n",
              "      <th>WS2</th>\n",
              "      <th>WS3</th>\n",
              "      <th>WS4</th>\n",
              "      <th>WS5</th>\n",
              "      <th>WS6</th>\n",
              "      <th>WS7</th>\n",
              "    </tr>\n",
              "  </thead>\n",
              "  <tbody>\n",
              "    <tr>\n",
              "      <th>count</th>\n",
              "      <td>1600.000000</td>\n",
              "      <td>1600.000000</td>\n",
              "      <td>1600.000000</td>\n",
              "      <td>1600.000000</td>\n",
              "      <td>1600.000000</td>\n",
              "      <td>1600.000000</td>\n",
              "      <td>1600.000000</td>\n",
              "      <td>1600.000000</td>\n",
              "    </tr>\n",
              "    <tr>\n",
              "      <th>mean</th>\n",
              "      <td>2.500000</td>\n",
              "      <td>-52.325000</td>\n",
              "      <td>-55.589375</td>\n",
              "      <td>-54.960000</td>\n",
              "      <td>-53.494375</td>\n",
              "      <td>-62.671250</td>\n",
              "      <td>-80.994375</td>\n",
              "      <td>-81.691250</td>\n",
              "    </tr>\n",
              "    <tr>\n",
              "      <th>std</th>\n",
              "      <td>1.118384</td>\n",
              "      <td>11.351317</td>\n",
              "      <td>3.420793</td>\n",
              "      <td>5.279993</td>\n",
              "      <td>11.519729</td>\n",
              "      <td>9.073223</td>\n",
              "      <td>6.508038</td>\n",
              "      <td>6.525434</td>\n",
              "    </tr>\n",
              "    <tr>\n",
              "      <th>min</th>\n",
              "      <td>1.000000</td>\n",
              "      <td>-74.000000</td>\n",
              "      <td>-74.000000</td>\n",
              "      <td>-73.000000</td>\n",
              "      <td>-77.000000</td>\n",
              "      <td>-86.000000</td>\n",
              "      <td>-97.000000</td>\n",
              "      <td>-98.000000</td>\n",
              "    </tr>\n",
              "    <tr>\n",
              "      <th>25%</th>\n",
              "      <td>1.750000</td>\n",
              "      <td>-61.000000</td>\n",
              "      <td>-58.000000</td>\n",
              "      <td>-58.000000</td>\n",
              "      <td>-63.000000</td>\n",
              "      <td>-69.000000</td>\n",
              "      <td>-86.000000</td>\n",
              "      <td>-86.000000</td>\n",
              "    </tr>\n",
              "    <tr>\n",
              "      <th>50%</th>\n",
              "      <td>2.500000</td>\n",
              "      <td>-55.000000</td>\n",
              "      <td>-56.000000</td>\n",
              "      <td>-55.000000</td>\n",
              "      <td>-56.000000</td>\n",
              "      <td>-64.000000</td>\n",
              "      <td>-82.000000</td>\n",
              "      <td>-83.000000</td>\n",
              "    </tr>\n",
              "    <tr>\n",
              "      <th>75%</th>\n",
              "      <td>3.250000</td>\n",
              "      <td>-46.000000</td>\n",
              "      <td>-53.000000</td>\n",
              "      <td>-51.000000</td>\n",
              "      <td>-46.000000</td>\n",
              "      <td>-56.000000</td>\n",
              "      <td>-77.000000</td>\n",
              "      <td>-78.000000</td>\n",
              "    </tr>\n",
              "    <tr>\n",
              "      <th>max</th>\n",
              "      <td>4.000000</td>\n",
              "      <td>-10.000000</td>\n",
              "      <td>-45.000000</td>\n",
              "      <td>-42.000000</td>\n",
              "      <td>-13.000000</td>\n",
              "      <td>-39.000000</td>\n",
              "      <td>-62.000000</td>\n",
              "      <td>-64.000000</td>\n",
              "    </tr>\n",
              "  </tbody>\n",
              "</table>\n",
              "</div>"
            ],
            "text/plain": [
              "          Location          WS1  ...          WS6          WS7\n",
              "count  1600.000000  1600.000000  ...  1600.000000  1600.000000\n",
              "mean      2.500000   -52.325000  ...   -80.994375   -81.691250\n",
              "std       1.118384    11.351317  ...     6.508038     6.525434\n",
              "min       1.000000   -74.000000  ...   -97.000000   -98.000000\n",
              "25%       1.750000   -61.000000  ...   -86.000000   -86.000000\n",
              "50%       2.500000   -55.000000  ...   -82.000000   -83.000000\n",
              "75%       3.250000   -46.000000  ...   -77.000000   -78.000000\n",
              "max       4.000000   -10.000000  ...   -62.000000   -64.000000\n",
              "\n",
              "[8 rows x 8 columns]"
            ]
          },
          "metadata": {
            "tags": []
          },
          "execution_count": 56
        }
      ]
    },
    {
      "cell_type": "code",
      "metadata": {
        "id": "bKePpT6G7jDA",
        "colab_type": "code",
        "outputId": "a9fbf044-0fb4-4c91-a591-be0f605f6821",
        "colab": {
          "base_uri": "https://localhost:8080/",
          "height": 419
        }
      },
      "source": [
        "data.isnull()"
      ],
      "execution_count": 57,
      "outputs": [
        {
          "output_type": "execute_result",
          "data": {
            "text/html": [
              "<div>\n",
              "<style scoped>\n",
              "    .dataframe tbody tr th:only-of-type {\n",
              "        vertical-align: middle;\n",
              "    }\n",
              "\n",
              "    .dataframe tbody tr th {\n",
              "        vertical-align: top;\n",
              "    }\n",
              "\n",
              "    .dataframe thead th {\n",
              "        text-align: right;\n",
              "    }\n",
              "</style>\n",
              "<table border=\"1\" class=\"dataframe\">\n",
              "  <thead>\n",
              "    <tr style=\"text-align: right;\">\n",
              "      <th></th>\n",
              "      <th>Location</th>\n",
              "      <th>WS1</th>\n",
              "      <th>WS2</th>\n",
              "      <th>WS3</th>\n",
              "      <th>WS4</th>\n",
              "      <th>WS5</th>\n",
              "      <th>WS6</th>\n",
              "      <th>WS7</th>\n",
              "    </tr>\n",
              "  </thead>\n",
              "  <tbody>\n",
              "    <tr>\n",
              "      <th>0</th>\n",
              "      <td>False</td>\n",
              "      <td>False</td>\n",
              "      <td>False</td>\n",
              "      <td>False</td>\n",
              "      <td>False</td>\n",
              "      <td>False</td>\n",
              "      <td>False</td>\n",
              "      <td>False</td>\n",
              "    </tr>\n",
              "    <tr>\n",
              "      <th>1</th>\n",
              "      <td>False</td>\n",
              "      <td>False</td>\n",
              "      <td>False</td>\n",
              "      <td>False</td>\n",
              "      <td>False</td>\n",
              "      <td>False</td>\n",
              "      <td>False</td>\n",
              "      <td>False</td>\n",
              "    </tr>\n",
              "    <tr>\n",
              "      <th>2</th>\n",
              "      <td>False</td>\n",
              "      <td>False</td>\n",
              "      <td>False</td>\n",
              "      <td>False</td>\n",
              "      <td>False</td>\n",
              "      <td>False</td>\n",
              "      <td>False</td>\n",
              "      <td>False</td>\n",
              "    </tr>\n",
              "    <tr>\n",
              "      <th>3</th>\n",
              "      <td>False</td>\n",
              "      <td>False</td>\n",
              "      <td>False</td>\n",
              "      <td>False</td>\n",
              "      <td>False</td>\n",
              "      <td>False</td>\n",
              "      <td>False</td>\n",
              "      <td>False</td>\n",
              "    </tr>\n",
              "    <tr>\n",
              "      <th>4</th>\n",
              "      <td>False</td>\n",
              "      <td>False</td>\n",
              "      <td>False</td>\n",
              "      <td>False</td>\n",
              "      <td>False</td>\n",
              "      <td>False</td>\n",
              "      <td>False</td>\n",
              "      <td>False</td>\n",
              "    </tr>\n",
              "    <tr>\n",
              "      <th>...</th>\n",
              "      <td>...</td>\n",
              "      <td>...</td>\n",
              "      <td>...</td>\n",
              "      <td>...</td>\n",
              "      <td>...</td>\n",
              "      <td>...</td>\n",
              "      <td>...</td>\n",
              "      <td>...</td>\n",
              "    </tr>\n",
              "    <tr>\n",
              "      <th>1595</th>\n",
              "      <td>False</td>\n",
              "      <td>False</td>\n",
              "      <td>False</td>\n",
              "      <td>False</td>\n",
              "      <td>False</td>\n",
              "      <td>False</td>\n",
              "      <td>False</td>\n",
              "      <td>False</td>\n",
              "    </tr>\n",
              "    <tr>\n",
              "      <th>1596</th>\n",
              "      <td>False</td>\n",
              "      <td>False</td>\n",
              "      <td>False</td>\n",
              "      <td>False</td>\n",
              "      <td>False</td>\n",
              "      <td>False</td>\n",
              "      <td>False</td>\n",
              "      <td>False</td>\n",
              "    </tr>\n",
              "    <tr>\n",
              "      <th>1597</th>\n",
              "      <td>False</td>\n",
              "      <td>False</td>\n",
              "      <td>False</td>\n",
              "      <td>False</td>\n",
              "      <td>False</td>\n",
              "      <td>False</td>\n",
              "      <td>False</td>\n",
              "      <td>False</td>\n",
              "    </tr>\n",
              "    <tr>\n",
              "      <th>1598</th>\n",
              "      <td>False</td>\n",
              "      <td>False</td>\n",
              "      <td>False</td>\n",
              "      <td>False</td>\n",
              "      <td>False</td>\n",
              "      <td>False</td>\n",
              "      <td>False</td>\n",
              "      <td>False</td>\n",
              "    </tr>\n",
              "    <tr>\n",
              "      <th>1599</th>\n",
              "      <td>False</td>\n",
              "      <td>False</td>\n",
              "      <td>False</td>\n",
              "      <td>False</td>\n",
              "      <td>False</td>\n",
              "      <td>False</td>\n",
              "      <td>False</td>\n",
              "      <td>False</td>\n",
              "    </tr>\n",
              "  </tbody>\n",
              "</table>\n",
              "<p>1600 rows × 8 columns</p>\n",
              "</div>"
            ],
            "text/plain": [
              "      Location    WS1    WS2    WS3    WS4    WS5    WS6    WS7\n",
              "0        False  False  False  False  False  False  False  False\n",
              "1        False  False  False  False  False  False  False  False\n",
              "2        False  False  False  False  False  False  False  False\n",
              "3        False  False  False  False  False  False  False  False\n",
              "4        False  False  False  False  False  False  False  False\n",
              "...        ...    ...    ...    ...    ...    ...    ...    ...\n",
              "1595     False  False  False  False  False  False  False  False\n",
              "1596     False  False  False  False  False  False  False  False\n",
              "1597     False  False  False  False  False  False  False  False\n",
              "1598     False  False  False  False  False  False  False  False\n",
              "1599     False  False  False  False  False  False  False  False\n",
              "\n",
              "[1600 rows x 8 columns]"
            ]
          },
          "metadata": {
            "tags": []
          },
          "execution_count": 57
        }
      ]
    },
    {
      "cell_type": "code",
      "metadata": {
        "id": "C668_2dSBvN9",
        "colab_type": "code",
        "colab": {}
      },
      "source": [
        "test = pd.read_csv(\"./D_Test1.csv\", names=[\"wifi_signal_1\",\"wifi_signal_2\",\"wifi_signal_3\",\"wifi_signal_4\",\"wifi_signal_5\",\"wifi_signal_6\",\"wifi_signal_7\",\"room_number\"], sep=',')"
      ],
      "execution_count": 0,
      "outputs": []
    },
    {
      "cell_type": "code",
      "metadata": {
        "id": "_cY41NqY7Zeq",
        "colab_type": "code",
        "colab": {}
      },
      "source": [
        "testdata = data[['WS1','WS2','WS3','WS4','WS5','WS6','WS7']]\n",
        "testlabel = data['Location']"
      ],
      "execution_count": 0,
      "outputs": []
    },
    {
      "cell_type": "markdown",
      "metadata": {
        "id": "3O4u2mpIIhJJ",
        "colab_type": "text"
      },
      "source": [
        "Data without standaradisation and dimension reduction(original data)"
      ]
    },
    {
      "cell_type": "code",
      "metadata": {
        "id": "BB80tQndMrTq",
        "colab_type": "code",
        "colab": {
          "base_uri": "https://localhost:8080/",
          "height": 34
        },
        "outputId": "e2557bd9-71e2-4b61-dac9-38d260a73893"
      },
      "source": [
        "%cd .."
      ],
      "execution_count": 60,
      "outputs": [
        {
          "output_type": "stream",
          "text": [
            "/content\n"
          ],
          "name": "stdout"
        }
      ]
    },
    {
      "cell_type": "code",
      "metadata": {
        "id": "duDCjPTbIgCc",
        "colab_type": "code",
        "colab": {}
      },
      "source": [
        "from classifier_models_py import classifier_models"
      ],
      "execution_count": 0,
      "outputs": []
    },
    {
      "cell_type": "code",
      "metadata": {
        "id": "hMko-fkrOF1j",
        "colab_type": "code",
        "colab": {
          "base_uri": "https://localhost:8080/",
          "height": 34
        },
        "outputId": "23c276c6-6833-44a8-de14-d5e604089874"
      },
      "source": [
        "trainlabel.shape"
      ],
      "execution_count": 62,
      "outputs": [
        {
          "output_type": "execute_result",
          "data": {
            "text/plain": [
              "(1600,)"
            ]
          },
          "metadata": {
            "tags": []
          },
          "execution_count": 62
        }
      ]
    },
    {
      "cell_type": "code",
      "metadata": {
        "id": "xt6MEAcaKSdu",
        "colab_type": "code",
        "colab": {}
      },
      "source": [
        "classifier_models(traindata,trainlabel)"
      ],
      "execution_count": 0,
      "outputs": []
    },
    {
      "cell_type": "markdown",
      "metadata": {
        "id": "O6t_HhWUPbrh",
        "colab_type": "text"
      },
      "source": [
        "Data with standardisation but no dimensionality reduction"
      ]
    },
    {
      "cell_type": "code",
      "metadata": {
        "id": "sFMSVp3L3CKe",
        "colab_type": "code",
        "outputId": "23a23b6a-6084-494c-9572-a3ef8ef3c707",
        "colab": {
          "base_uri": "https://localhost:8080/",
          "height": 255
        }
      },
      "source": [
        "from sklearn.preprocessing import StandardScaler\n",
        "scaler = StandardScaler()\n",
        "print(scaler.fit(traindata))\n",
        "StandardScaler()\n",
        "# print(scaler.mean_)\n",
        "std_data = scaler.transform(traindata)\n",
        "std_test_data = scaler.transform(testdata)\n",
        "print('Data with 0 mean and unit variance:',std_data)"
      ],
      "execution_count": 39,
      "outputs": [
        {
          "output_type": "stream",
          "text": [
            "StandardScaler(copy=True, with_mean=True, with_std=True)\n",
            "Data with 0 mean and unit variance: [[-0.85259045  0.17234578 -1.90211225 ... -0.69773758 -0.76938543\n",
            "  -0.81380179]\n",
            " [-0.76446741 -0.12007548 -1.90211225 ... -0.36699095  0.61395209\n",
            "   0.10596477]\n",
            " [-0.85259045 -0.704918   -0.38648496 ... -0.80798646 -0.15456875\n",
            "  -1.42697951]\n",
            " ...\n",
            " [-0.50009827 -1.28976053  0.93968892 ...  1.39699108 -0.9230896\n",
            "   0.56584806]\n",
            " [-0.85259045 -1.87460305  1.12914233 ...  1.72773771 -1.84531461\n",
            "   0.2592592 ]\n",
            " [-0.32385219  0.46476704  1.50804915 ...  1.17649333 -0.46197709\n",
            "  -1.42697951]]\n"
          ],
          "name": "stdout"
        }
      ]
    },
    {
      "cell_type": "code",
      "metadata": {
        "id": "y5KSTl-sPnLc",
        "colab_type": "code",
        "colab": {}
      },
      "source": [
        "classifier_models(std_data,trainlabel)"
      ],
      "execution_count": 0,
      "outputs": []
    },
    {
      "cell_type": "markdown",
      "metadata": {
        "id": "FELxV9UoP1Am",
        "colab_type": "text"
      },
      "source": [
        "Data with standardisation and dimensionality reduction "
      ]
    },
    {
      "cell_type": "code",
      "metadata": {
        "id": "m2h3oaT1lHp0",
        "colab_type": "code",
        "outputId": "0208bc3e-2a27-4196-d408-3287b6e69b65",
        "colab": {
          "base_uri": "https://localhost:8080/",
          "height": 297
        }
      },
      "source": [
        "from sklearn.decomposition import PCA\n",
        "\n",
        "pca = PCA(n_components=2)\n",
        "X_pca = pca.fit_transform(std_data)\n",
        "PCA_df = pd.DataFrame(data = X_pca, columns = ['PC1', 'PC2'])\n",
        "PCA_df = pd.concat([PCA_df, trainlabel], axis = 1)\n",
        "PCA_df['Location'] = LabelEncoder().fit_transform(PCA_df['Location'])\n",
        "PCA_df.describe()"
      ],
      "execution_count": 0,
      "outputs": [
        {
          "output_type": "execute_result",
          "data": {
            "text/html": [
              "<div>\n",
              "<style scoped>\n",
              "    .dataframe tbody tr th:only-of-type {\n",
              "        vertical-align: middle;\n",
              "    }\n",
              "\n",
              "    .dataframe tbody tr th {\n",
              "        vertical-align: top;\n",
              "    }\n",
              "\n",
              "    .dataframe thead th {\n",
              "        text-align: right;\n",
              "    }\n",
              "</style>\n",
              "<table border=\"1\" class=\"dataframe\">\n",
              "  <thead>\n",
              "    <tr style=\"text-align: right;\">\n",
              "      <th></th>\n",
              "      <th>PC1</th>\n",
              "      <th>PC2</th>\n",
              "      <th>Location</th>\n",
              "    </tr>\n",
              "  </thead>\n",
              "  <tbody>\n",
              "    <tr>\n",
              "      <th>count</th>\n",
              "      <td>1.600000e+03</td>\n",
              "      <td>1.600000e+03</td>\n",
              "      <td>1600.000000</td>\n",
              "    </tr>\n",
              "    <tr>\n",
              "      <th>mean</th>\n",
              "      <td>3.991252e-16</td>\n",
              "      <td>1.791622e-16</td>\n",
              "      <td>1.500000</td>\n",
              "    </tr>\n",
              "    <tr>\n",
              "      <th>std</th>\n",
              "      <td>1.844747e+00</td>\n",
              "      <td>1.306118e+00</td>\n",
              "      <td>1.118384</td>\n",
              "    </tr>\n",
              "    <tr>\n",
              "      <th>min</th>\n",
              "      <td>-3.641818e+00</td>\n",
              "      <td>-3.271388e+00</td>\n",
              "      <td>0.000000</td>\n",
              "    </tr>\n",
              "    <tr>\n",
              "      <th>25%</th>\n",
              "      <td>-1.402221e+00</td>\n",
              "      <td>-9.029259e-01</td>\n",
              "      <td>0.750000</td>\n",
              "    </tr>\n",
              "    <tr>\n",
              "      <th>50%</th>\n",
              "      <td>-3.223557e-01</td>\n",
              "      <td>-2.460136e-01</td>\n",
              "      <td>1.500000</td>\n",
              "    </tr>\n",
              "    <tr>\n",
              "      <th>75%</th>\n",
              "      <td>9.702657e-01</td>\n",
              "      <td>8.200771e-01</td>\n",
              "      <td>2.250000</td>\n",
              "    </tr>\n",
              "    <tr>\n",
              "      <th>max</th>\n",
              "      <td>5.338274e+00</td>\n",
              "      <td>4.144603e+00</td>\n",
              "      <td>3.000000</td>\n",
              "    </tr>\n",
              "  </tbody>\n",
              "</table>\n",
              "</div>"
            ],
            "text/plain": [
              "                PC1           PC2     Location\n",
              "count  1.600000e+03  1.600000e+03  1600.000000\n",
              "mean   3.991252e-16  1.791622e-16     1.500000\n",
              "std    1.844747e+00  1.306118e+00     1.118384\n",
              "min   -3.641818e+00 -3.271388e+00     0.000000\n",
              "25%   -1.402221e+00 -9.029259e-01     0.750000\n",
              "50%   -3.223557e-01 -2.460136e-01     1.500000\n",
              "75%    9.702657e-01  8.200771e-01     2.250000\n",
              "max    5.338274e+00  4.144603e+00     3.000000"
            ]
          },
          "metadata": {
            "tags": []
          },
          "execution_count": 27
        }
      ]
    },
    {
      "cell_type": "code",
      "metadata": {
        "id": "z_0--KvR2XRh",
        "colab_type": "code",
        "outputId": "b5baf40f-9598-4ce3-e194-4153d9382ce6",
        "colab": {
          "base_uri": "https://localhost:8080/",
          "height": 419
        }
      },
      "source": [
        "PCA_df"
      ],
      "execution_count": 0,
      "outputs": [
        {
          "output_type": "execute_result",
          "data": {
            "text/html": [
              "<div>\n",
              "<style scoped>\n",
              "    .dataframe tbody tr th:only-of-type {\n",
              "        vertical-align: middle;\n",
              "    }\n",
              "\n",
              "    .dataframe tbody tr th {\n",
              "        vertical-align: top;\n",
              "    }\n",
              "\n",
              "    .dataframe thead th {\n",
              "        text-align: right;\n",
              "    }\n",
              "</style>\n",
              "<table border=\"1\" class=\"dataframe\">\n",
              "  <thead>\n",
              "    <tr style=\"text-align: right;\">\n",
              "      <th></th>\n",
              "      <th>PC1</th>\n",
              "      <th>PC2</th>\n",
              "      <th>Location</th>\n",
              "    </tr>\n",
              "  </thead>\n",
              "  <tbody>\n",
              "    <tr>\n",
              "      <th>0</th>\n",
              "      <td>-1.058338</td>\n",
              "      <td>1.877326</td>\n",
              "      <td>0</td>\n",
              "    </tr>\n",
              "    <tr>\n",
              "      <th>1</th>\n",
              "      <td>-0.264497</td>\n",
              "      <td>1.807213</td>\n",
              "      <td>0</td>\n",
              "    </tr>\n",
              "    <tr>\n",
              "      <th>2</th>\n",
              "      <td>-1.371126</td>\n",
              "      <td>1.411374</td>\n",
              "      <td>0</td>\n",
              "    </tr>\n",
              "    <tr>\n",
              "      <th>3</th>\n",
              "      <td>-0.137745</td>\n",
              "      <td>0.998133</td>\n",
              "      <td>0</td>\n",
              "    </tr>\n",
              "    <tr>\n",
              "      <th>4</th>\n",
              "      <td>-1.497436</td>\n",
              "      <td>1.513074</td>\n",
              "      <td>0</td>\n",
              "    </tr>\n",
              "    <tr>\n",
              "      <th>...</th>\n",
              "      <td>...</td>\n",
              "      <td>...</td>\n",
              "      <td>...</td>\n",
              "    </tr>\n",
              "    <tr>\n",
              "      <th>1595</th>\n",
              "      <td>-2.364903</td>\n",
              "      <td>-0.413139</td>\n",
              "      <td>3</td>\n",
              "    </tr>\n",
              "    <tr>\n",
              "      <th>1596</th>\n",
              "      <td>-1.630271</td>\n",
              "      <td>-0.902838</td>\n",
              "      <td>3</td>\n",
              "    </tr>\n",
              "    <tr>\n",
              "      <th>1597</th>\n",
              "      <td>-1.173237</td>\n",
              "      <td>-0.629335</td>\n",
              "      <td>3</td>\n",
              "    </tr>\n",
              "    <tr>\n",
              "      <th>1598</th>\n",
              "      <td>-2.234424</td>\n",
              "      <td>-0.497094</td>\n",
              "      <td>3</td>\n",
              "    </tr>\n",
              "    <tr>\n",
              "      <th>1599</th>\n",
              "      <td>-1.720324</td>\n",
              "      <td>-1.619838</td>\n",
              "      <td>3</td>\n",
              "    </tr>\n",
              "  </tbody>\n",
              "</table>\n",
              "<p>1600 rows × 3 columns</p>\n",
              "</div>"
            ],
            "text/plain": [
              "           PC1       PC2  Location\n",
              "0    -1.058338  1.877326         0\n",
              "1    -0.264497  1.807213         0\n",
              "2    -1.371126  1.411374         0\n",
              "3    -0.137745  0.998133         0\n",
              "4    -1.497436  1.513074         0\n",
              "...        ...       ...       ...\n",
              "1595 -2.364903 -0.413139         3\n",
              "1596 -1.630271 -0.902838         3\n",
              "1597 -1.173237 -0.629335         3\n",
              "1598 -2.234424 -0.497094         3\n",
              "1599 -1.720324 -1.619838         3\n",
              "\n",
              "[1600 rows x 3 columns]"
            ]
          },
          "metadata": {
            "tags": []
          },
          "execution_count": 28
        }
      ]
    },
    {
      "cell_type": "code",
      "metadata": {
        "id": "O91SdvwvP8dH",
        "colab_type": "code",
        "colab": {}
      },
      "source": [
        "classifier_models(X_pca,trainlabel)"
      ],
      "execution_count": 0,
      "outputs": []
    },
    {
      "cell_type": "code",
      "metadata": {
        "id": "rxopvSoz74Wj",
        "colab_type": "code",
        "outputId": "57efff8f-3457-4754-dd6f-2a787ad0851d",
        "colab": {
          "base_uri": "https://localhost:8080/",
          "height": 518
        }
      },
      "source": [
        "from itertools import product\n",
        "\n",
        "# X_Reduced, X_Test_Reduced, Y_Reduced, Y_Test_Reduced = train_test_split(X_pca, Y, \n",
        "#                                                                         test_size = 0.30, \n",
        "#                                                                         random_state = 101)\n",
        "X_Reduced = X_pca\n",
        "Y_Reduced = trainlabel\n",
        "X_Test_Reduced = pca.transform(std_test_data)\n",
        "trainedforest = RandomForestClassifier(n_estimators=700).fit(X_Reduced,trainlabel)\n",
        "\n",
        "x_min, x_max = X_Reduced[:, 0].min() - 1, X_Reduced[:, 0].max() + 1\n",
        "y_min, y_max = X_Reduced[:, 1].min() - 1, X_Reduced[:, 1].max() + 1\n",
        "xx, yy = np.meshgrid(np.arange(x_min, x_max, 0.1), np.arange(y_min, y_max, 0.1))\n",
        "Z = trainedforest.predict(np.c_[xx.ravel(), yy.ravel()])\n",
        "y_pred = Z\n",
        "Z = Z.reshape(xx.shape)\n",
        "plt.contourf(xx, yy, Z,cmap=plt.cm.coolwarm, alpha=0.4)\n",
        "plt.scatter(X_Reduced[:, 0], X_Reduced[:, 1], c=Y_Reduced, s=20, edgecolor='k')\n",
        "plt.xlabel('Principal Component 1', fontsize = 12)\n",
        "plt.ylabel('Principal Component 2', fontsize = 12)\n",
        "plt.title('Random Forest', fontsize = 15)\n",
        "plt.show()"
      ],
      "execution_count": 0,
      "outputs": [
        {
          "output_type": "display_data",
          "data": {
            "image/png": "[encoded data removed]",
            "text/plain": [
              "<Figure size 864x576 with 1 Axes>"
            ]
          },
          "metadata": {
            "tags": []
          }
        }
      ]
    },
    {
      "cell_type": "code",
      "metadata": {
        "id": "1lU-pCYh_E1i",
        "colab_type": "code",
        "outputId": "d1e7e168-da0b-45f3-b497-a0c717e40567",
        "colab": {
          "base_uri": "https://localhost:8080/",
          "height": 34
        }
      },
      "source": [
        "y_pred.shape"
      ],
      "execution_count": 0,
      "outputs": [
        {
          "output_type": "execute_result",
          "data": {
            "text/plain": [
              "(10450,)"
            ]
          },
          "metadata": {
            "tags": []
          },
          "execution_count": 43
        }
      ]
    },
    {
      "cell_type": "code",
      "metadata": {
        "id": "A40pKjxQ9ALR",
        "colab_type": "code",
        "outputId": "fcb91849-2f65-480d-fc8f-f21f0e230666",
        "colab": {
          "base_uri": "https://localhost:8080/",
          "height": 51
        }
      },
      "source": [
        "from sklearn.metrics import accuracy_score\n",
        "y_true = trainlabel\n",
        "y_pred = trainedforest.predict(X_pca)\n",
        "# ,trainlabel)\n",
        "print(accuracy_score(y_true, y_pred))\n",
        "\n",
        "y_true = testlabel\n",
        "y_pred = trainedforest.predict(X_Test_Reduced)\n",
        "# ,trainlabel)\n",
        "print(accuracy_score(y_true, y_pred))\n"
      ],
      "execution_count": 0,
      "outputs": [
        {
          "output_type": "stream",
          "text": [
            "1.0\n",
            "1.0\n"
          ],
          "name": "stdout"
        }
      ]
    },
    {
      "cell_type": "code",
      "metadata": {
        "id": "hkduovLD-8UK",
        "colab_type": "code",
        "colab": {}
      },
      "source": [
        ""
      ],
      "execution_count": 0,
      "outputs": []
    }
  ]
}